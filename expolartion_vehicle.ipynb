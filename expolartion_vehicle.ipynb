{
 "cells": [
  {
   "cell_type": "code",
   "execution_count": 1,
   "metadata": {},
   "outputs": [],
   "source": [
    "import numpy as np\n",
    "import pandas as pd\n",
    "from transform import ExoData"
   ]
  },
  {
   "cell_type": "code",
   "execution_count": 2,
   "metadata": {},
   "outputs": [
    {
     "name": "stderr",
     "output_type": "stream",
     "text": [
      "c:\\Users\\kkape\\OneDrive\\Code\\not-a-uranus-explorer\\expedition\\Lib\\site-packages\\pandas\\core\\arraylike.py:399: RuntimeWarning: invalid value encountered in sqrt\n",
      "  result = getattr(ufunc, method)(*inputs, **kwargs)\n",
      "c:\\Users\\kkape\\OneDrive\\Code\\not-a-uranus-explorer\\expedition\\Lib\\site-packages\\pandas\\core\\arraylike.py:399: RuntimeWarning: invalid value encountered in sqrt\n",
      "  result = getattr(ufunc, method)(*inputs, **kwargs)\n"
     ]
    }
   ],
   "source": [
    "data = ExoData('PSCompPars_2024.10.05_08.34.19.csv').transform()"
   ]
  },
  {
   "cell_type": "code",
   "execution_count": 3,
   "metadata": {},
   "outputs": [
    {
     "data": {
      "text/plain": [
       "4048"
      ]
     },
     "execution_count": 3,
     "metadata": {},
     "output_type": "execute_result"
    }
   ],
   "source": [
    "len(data [data.snr>5])"
   ]
  },
  {
   "cell_type": "code",
   "execution_count": 4,
   "metadata": {},
   "outputs": [
    {
     "data": {
      "text/html": [
       "<div>\n",
       "<style scoped>\n",
       "    .dataframe tbody tr th:only-of-type {\n",
       "        vertical-align: middle;\n",
       "    }\n",
       "\n",
       "    .dataframe tbody tr th {\n",
       "        vertical-align: top;\n",
       "    }\n",
       "\n",
       "    .dataframe thead th {\n",
       "        text-align: right;\n",
       "    }\n",
       "</style>\n",
       "<table border=\"1\" class=\"dataframe\">\n",
       "  <thead>\n",
       "    <tr style=\"text-align: right;\">\n",
       "      <th></th>\n",
       "      <th>pl_name</th>\n",
       "      <th>characterizable_5m</th>\n",
       "      <th>characterizable_6m</th>\n",
       "      <th>characterizable_7m</th>\n",
       "      <th>characterizable_8m</th>\n",
       "      <th>characterizable_9m</th>\n",
       "      <th>characterizable_10m</th>\n",
       "      <th>characterizable_11m</th>\n",
       "      <th>characterizable_12m</th>\n",
       "      <th>characterizable_13m</th>\n",
       "      <th>characterizable_14m</th>\n",
       "      <th>characterizable_15m</th>\n",
       "      <th>star_distance_pc</th>\n",
       "      <th>planet_orbit_semi_major_axis_au</th>\n",
       "    </tr>\n",
       "  </thead>\n",
       "  <tbody>\n",
       "    <tr>\n",
       "      <th>0</th>\n",
       "      <td>11 Com b</td>\n",
       "      <td>False</td>\n",
       "      <td>False</td>\n",
       "      <td>False</td>\n",
       "      <td>False</td>\n",
       "      <td>False</td>\n",
       "      <td>False</td>\n",
       "      <td>False</td>\n",
       "      <td>False</td>\n",
       "      <td>False</td>\n",
       "      <td>False</td>\n",
       "      <td>False</td>\n",
       "      <td>93.1846</td>\n",
       "      <td>1.178</td>\n",
       "    </tr>\n",
       "    <tr>\n",
       "      <th>1</th>\n",
       "      <td>11 UMi b</td>\n",
       "      <td>False</td>\n",
       "      <td>False</td>\n",
       "      <td>False</td>\n",
       "      <td>False</td>\n",
       "      <td>False</td>\n",
       "      <td>False</td>\n",
       "      <td>False</td>\n",
       "      <td>False</td>\n",
       "      <td>False</td>\n",
       "      <td>False</td>\n",
       "      <td>False</td>\n",
       "      <td>125.3210</td>\n",
       "      <td>1.530</td>\n",
       "    </tr>\n",
       "    <tr>\n",
       "      <th>2</th>\n",
       "      <td>14 And b</td>\n",
       "      <td>False</td>\n",
       "      <td>False</td>\n",
       "      <td>False</td>\n",
       "      <td>False</td>\n",
       "      <td>False</td>\n",
       "      <td>False</td>\n",
       "      <td>False</td>\n",
       "      <td>False</td>\n",
       "      <td>False</td>\n",
       "      <td>False</td>\n",
       "      <td>False</td>\n",
       "      <td>75.4392</td>\n",
       "      <td>0.775</td>\n",
       "    </tr>\n",
       "    <tr>\n",
       "      <th>3</th>\n",
       "      <td>14 Her b</td>\n",
       "      <td>False</td>\n",
       "      <td>False</td>\n",
       "      <td>False</td>\n",
       "      <td>False</td>\n",
       "      <td>False</td>\n",
       "      <td>False</td>\n",
       "      <td>False</td>\n",
       "      <td>False</td>\n",
       "      <td>False</td>\n",
       "      <td>False</td>\n",
       "      <td>False</td>\n",
       "      <td>17.9323</td>\n",
       "      <td>2.774</td>\n",
       "    </tr>\n",
       "    <tr>\n",
       "      <th>4</th>\n",
       "      <td>16 Cyg B b</td>\n",
       "      <td>False</td>\n",
       "      <td>False</td>\n",
       "      <td>False</td>\n",
       "      <td>False</td>\n",
       "      <td>False</td>\n",
       "      <td>False</td>\n",
       "      <td>False</td>\n",
       "      <td>False</td>\n",
       "      <td>False</td>\n",
       "      <td>False</td>\n",
       "      <td>True</td>\n",
       "      <td>21.1397</td>\n",
       "      <td>1.660</td>\n",
       "    </tr>\n",
       "  </tbody>\n",
       "</table>\n",
       "</div>"
      ],
      "text/plain": [
       "      pl_name  characterizable_5m  characterizable_6m  characterizable_7m  \\\n",
       "0    11 Com b               False               False               False   \n",
       "1    11 UMi b               False               False               False   \n",
       "2    14 And b               False               False               False   \n",
       "3    14 Her b               False               False               False   \n",
       "4  16 Cyg B b               False               False               False   \n",
       "\n",
       "   characterizable_8m  characterizable_9m  characterizable_10m  \\\n",
       "0               False               False                False   \n",
       "1               False               False                False   \n",
       "2               False               False                False   \n",
       "3               False               False                False   \n",
       "4               False               False                False   \n",
       "\n",
       "   characterizable_11m  characterizable_12m  characterizable_13m  \\\n",
       "0                False                False                False   \n",
       "1                False                False                False   \n",
       "2                False                False                False   \n",
       "3                False                False                False   \n",
       "4                False                False                False   \n",
       "\n",
       "   characterizable_14m  characterizable_15m  star_distance_pc  \\\n",
       "0                False                False           93.1846   \n",
       "1                False                False          125.3210   \n",
       "2                False                False           75.4392   \n",
       "3                False                False           17.9323   \n",
       "4                False                 True           21.1397   \n",
       "\n",
       "   planet_orbit_semi_major_axis_au  \n",
       "0                            1.178  \n",
       "1                            1.530  \n",
       "2                            0.775  \n",
       "3                            2.774  \n",
       "4                            1.660  "
      ]
     },
     "execution_count": 4,
     "metadata": {},
     "output_type": "execute_result"
    }
   ],
   "source": [
    "# Define a function to calculate ESmax for a given telescope diameter\n",
    "def calculate_esmax(telescope_diameter_m, planet_star_distance_au):\n",
    "    return 15 * (telescope_diameter_m / 6) / planet_star_distance_au\n",
    "\n",
    "# Define a range of telescope diameters (5 to 15 meters)\n",
    "telescope_diameters = range(5, 16)\n",
    "\n",
    "# Create columns in the DataFrame to store characterizable status for each telescope diameter\n",
    "for D in telescope_diameters:\n",
    "    # Calculate ESmax for the current telescope diameter\n",
    "    data[f'esmax_{D}m'] = calculate_esmax(D, data['planet_orbit_semi_major_axis_au'])\n",
    "    # Determine if the system is characterizable (actual distance <= ESmax)\n",
    "    data[f'characterizable_{D}m'] = data['star_distance_pc'] <= data[f'esmax_{D}m']\n",
    "\n",
    "# Show a sample of the columns related to characterizability\n",
    "data[['pl_name'] + [f'characterizable_{D}m' for D in telescope_diameters] + ['star_distance_pc', 'planet_orbit_semi_major_axis_au']].head()\n"
   ]
  },
  {
   "cell_type": "code",
   "execution_count": null,
   "metadata": {},
   "outputs": [],
   "source": []
  }
 ],
 "metadata": {
  "kernelspec": {
   "display_name": "expedition",
   "language": "python",
   "name": "python3"
  },
  "language_info": {
   "codemirror_mode": {
    "name": "ipython",
    "version": 3
   },
   "file_extension": ".py",
   "mimetype": "text/x-python",
   "name": "python",
   "nbconvert_exporter": "python",
   "pygments_lexer": "ipython3",
   "version": "3.11.3"
  }
 },
 "nbformat": 4,
 "nbformat_minor": 2
}
